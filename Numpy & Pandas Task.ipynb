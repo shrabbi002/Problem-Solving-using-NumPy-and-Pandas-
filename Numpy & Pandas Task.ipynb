{
  "nbformat": 4,
  "nbformat_minor": 0,
  "metadata": {
    "colab": {
      "provenance": []
    },
    "kernelspec": {
      "name": "python3",
      "display_name": "Python 3"
    },
    "language_info": {
      "name": "python"
    }
  },
  "cells": [
    {
      "cell_type": "code",
      "execution_count": null,
      "metadata": {
        "id": "4zOxJ71n0S4i"
      },
      "outputs": [],
      "source": [
        "import pandas as pd\n",
        "import numpy as np"
      ]
    },
    {
      "cell_type": "code",
      "source": [
        "df = pd.read_csv('1.csv')"
      ],
      "metadata": {
        "id": "-q37pjbm0nL-"
      },
      "execution_count": null,
      "outputs": []
    },
    {
      "cell_type": "code",
      "source": [
        "df.shape"
      ],
      "metadata": {
        "colab": {
          "base_uri": "https://localhost:8080/"
        },
        "id": "Ez9d68iv1UT7",
        "outputId": "f8de502d-2cfa-4144-bc0c-3c79afa17e4c"
      },
      "execution_count": null,
      "outputs": [
        {
          "output_type": "execute_result",
          "data": {
            "text/plain": [
              "(5348, 48)"
            ]
          },
          "metadata": {},
          "execution_count": 22
        }
      ]
    },
    {
      "cell_type": "code",
      "source": [
        "df.info()"
      ],
      "metadata": {
        "colab": {
          "base_uri": "https://localhost:8080/"
        },
        "id": "R5cLL9k53w3X",
        "outputId": "f029469e-987a-4e03-caed-c047b2863d68"
      },
      "execution_count": null,
      "outputs": [
        {
          "output_type": "stream",
          "name": "stdout",
          "text": [
            "<class 'pandas.core.frame.DataFrame'>\n",
            "RangeIndex: 5348 entries, 0 to 5347\n",
            "Data columns (total 48 columns):\n",
            " #   Column            Non-Null Count  Dtype  \n",
            "---  ------            --------------  -----  \n",
            " 0   Code              5348 non-null   object \n",
            " 1   FREQ              5348 non-null   object \n",
            " 2   FREQ#             5348 non-null   object \n",
            " 3   REF_AREA          5348 non-null   object \n",
            " 4   REF_AREA#         5348 non-null   object \n",
            " 5   INDICATOR         5348 non-null   object \n",
            " 6   INDICATOR#        5325 non-null   object \n",
            " 7   MEASURE           5348 non-null   object \n",
            " 8   MEASURE#          5348 non-null   object \n",
            " 9   UNIT_MEASURE      5348 non-null   object \n",
            " 10  UNIT_MEASURE#     5348 non-null   object \n",
            " 11  INSTRUMENT_TYPE   5348 non-null   object \n",
            " 12  INSTRUMENT_TYPE#  5306 non-null   object \n",
            " 13  WITH_AND_DEP      5348 non-null   object \n",
            " 14  WITH_AND_DEP#     5335 non-null   object \n",
            " 15  TERMINAL_TYPE     5348 non-null   object \n",
            " 16  TERMINAL_TYPE#    5348 non-null   object \n",
            " 17  CARD_TYPE         5348 non-null   object \n",
            " 18  CARD_TYPE#        5327 non-null   object \n",
            " 19  AVAILABILITY      5348 non-null   object \n",
            " 20  AVAILABILITY#     5348 non-null   object \n",
            " 21  UNIT_MULT         5348 non-null   int64  \n",
            " 22  UNIT_MULT#        5334 non-null   object \n",
            " 23  COLLECTION        5348 non-null   object \n",
            " 24  COLLECTION#       5326 non-null   object \n",
            " 25  DECIMALS          5348 non-null   int64  \n",
            " 26  TABLE             5348 non-null   object \n",
            " 27  TITLE_TS          5348 non-null   object \n",
            " 28  2012              3920 non-null   float64\n",
            " 29  sts               4902 non-null   object \n",
            " 30  2013              4475 non-null   float64\n",
            " 31  sts.1             5348 non-null   object \n",
            " 32  2014              4862 non-null   float64\n",
            " 33  sts.2             5348 non-null   object \n",
            " 34  2015              5000 non-null   float64\n",
            " 35  sts.3             5348 non-null   object \n",
            " 36  2016              5061 non-null   float64\n",
            " 37  sts.4             5348 non-null   object \n",
            " 38  2017              5118 non-null   float64\n",
            " 39  sts.5             5348 non-null   object \n",
            " 40  2018              5083 non-null   float64\n",
            " 41  sts.6             5344 non-null   object \n",
            " 42  2019              5104 non-null   float64\n",
            " 43  sts.7             5344 non-null   object \n",
            " 44  2020              5080 non-null   float64\n",
            " 45  sts.8             5329 non-null   object \n",
            " 46  2021              4857 non-null   float64\n",
            " 47  sts.9             5329 non-null   object \n",
            "dtypes: float64(10), int64(2), object(36)\n",
            "memory usage: 2.0+ MB\n"
          ]
        }
      ]
    },
    {
      "cell_type": "code",
      "source": [
        "df.isnull().sum()"
      ],
      "metadata": {
        "colab": {
          "base_uri": "https://localhost:8080/"
        },
        "id": "hweCINUI30_K",
        "outputId": "1dd59d3a-b2bd-4dfc-fed4-e11f50b8641c"
      },
      "execution_count": null,
      "outputs": [
        {
          "output_type": "execute_result",
          "data": {
            "text/plain": [
              "Code                   0\n",
              "FREQ                   0\n",
              "FREQ#                  0\n",
              "REF_AREA               0\n",
              "REF_AREA#              0\n",
              "INDICATOR              0\n",
              "INDICATOR#            23\n",
              "MEASURE                0\n",
              "MEASURE#               0\n",
              "UNIT_MEASURE           0\n",
              "UNIT_MEASURE#          0\n",
              "INSTRUMENT_TYPE        0\n",
              "INSTRUMENT_TYPE#      42\n",
              "WITH_AND_DEP           0\n",
              "WITH_AND_DEP#         13\n",
              "TERMINAL_TYPE          0\n",
              "TERMINAL_TYPE#         0\n",
              "CARD_TYPE              0\n",
              "CARD_TYPE#            21\n",
              "AVAILABILITY           0\n",
              "AVAILABILITY#          0\n",
              "UNIT_MULT              0\n",
              "UNIT_MULT#            14\n",
              "COLLECTION             0\n",
              "COLLECTION#           22\n",
              "DECIMALS               0\n",
              "TABLE                  0\n",
              "TITLE_TS               0\n",
              "2012                1428\n",
              "sts                  446\n",
              "2013                 873\n",
              "sts.1                  0\n",
              "2014                 486\n",
              "sts.2                  0\n",
              "2015                 348\n",
              "sts.3                  0\n",
              "2016                 287\n",
              "sts.4                  0\n",
              "2017                 230\n",
              "sts.5                  0\n",
              "2018                 265\n",
              "sts.6                  4\n",
              "2019                 244\n",
              "sts.7                  4\n",
              "2020                 268\n",
              "sts.8                 19\n",
              "2021                 491\n",
              "sts.9                 19\n",
              "dtype: int64"
            ]
          },
          "metadata": {},
          "execution_count": 24
        }
      ]
    },
    {
      "cell_type": "code",
      "source": [
        "df.sample(10)"
      ],
      "metadata": {
        "colab": {
          "base_uri": "https://localhost:8080/",
          "height": 429
        },
        "id": "hSeW-XCo3_d7",
        "outputId": "cd54d18e-ab2c-45d1-d0c6-62bc0a152d85"
      },
      "execution_count": null,
      "outputs": [
        {
          "output_type": "execute_result",
          "data": {
            "text/plain": [
              "                             Code FREQ   FREQ# REF_AREA     REF_AREA#  \\\n",
              "5249  CPMI_CT1:A:ZA:M:V:H:D:Z:Z:Z    A  Annual       ZA  South Africa   \n",
              "2718  CPMI_CT1:A:IN:K:V:B:Z:Z:Z:Z    A  Annual       IN         India   \n",
              "940   CPMI_CT1:A:CA:M:N:N:E:Z:Z:Z    A  Annual       CA        Canada   \n",
              "27    CPMI_CT1:A:AR:M:N:G:E:Z:Z:Z    A  Annual       AR     Argentina   \n",
              "1225  CPMI_CT1:A:CH:R:N:Q:Z:C:Z:Z    A  Annual       CH   Switzerland   \n",
              "3008  CPMI_CT1:A:IT:M:V:A:I:Z:Z:Z    A  Annual       IT         Italy   \n",
              "2091  CPMI_CT1:A:FR:M:V:I:G:Z:Z:Z    A  Annual       FR        France   \n",
              "3207  CPMI_CT1:A:JP:M:N:T:H:Z:Z:Z    A  Annual       JP         Japan   \n",
              "2603  CPMI_CT1:A:ID:M:V:T:H:Z:Z:Z    A  Annual       ID     Indonesia   \n",
              "4580  CPMI_CT1:A:SE:R:V:A:Z:F:Z:Z    A  Annual       SE        Sweden   \n",
              "\n",
              "     INDICATOR            INDICATOR# MEASURE MEASURE# UNIT_MEASURE  ...  \\\n",
              "5249         M     Cashless payments       V    Value            H  ...   \n",
              "2718         K              Accounts       V    Value            B  ...   \n",
              "940          M     Cashless payments       N   Number            N  ...   \n",
              "27           M     Cashless payments       N   Number            G  ...   \n",
              "1225         R  Withdrawals/deposits       N   Number            Q  ...   \n",
              "3008         M     Cashless payments       V    Value            A  ...   \n",
              "2091         M     Cashless payments       V    Value            I  ...   \n",
              "3207         M     Cashless payments       N   Number            T  ...   \n",
              "2603         M     Cashless payments       V    Value            T  ...   \n",
              "4580         R  Withdrawals/deposits       V    Value            A  ...   \n",
              "\n",
              "           2017 sts.5       2018 sts.6       2019 sts.7       2020 sts.8  \\\n",
              "5249    -20.690     A    -27.456     A     -5.713     A    -76.968     A   \n",
              "2718   1575.716     A   1556.235     A   1569.466     A   1691.333     A   \n",
              "940   10736.800     A  11603.400     A  11998.000     A   4819.160     A   \n",
              "27        8.633     A     12.401     A     20.487     A        NaN     A   \n",
              "1225     14.093     A     14.307     A     18.398     A     16.568     A   \n",
              "3008  28042.859     A  35084.912     A  40974.492     A  48735.316     A   \n",
              "2091      5.253     A      5.444     A      5.214     A      5.207     A   \n",
              "3207        NaN     L        NaN     L        NaN     L        NaN     L   \n",
              "2603     59.156     A     58.711     A     64.429     A     43.600     A   \n",
              "4580    515.000     A    430.577     A    400.992     A    205.441     A   \n",
              "\n",
              "           2021 sts.9  \n",
              "5249    -99.930     A  \n",
              "2718   1817.145     A  \n",
              "940    5281.500     A  \n",
              "27       31.498     A  \n",
              "1225     15.178     A  \n",
              "3008  63966.964     A  \n",
              "2091      6.075     A  \n",
              "3207        NaN     L  \n",
              "2603     45.528     A  \n",
              "4580    226.695     A  \n",
              "\n",
              "[10 rows x 48 columns]"
            ],
            "text/html": [
              "\n",
              "  <div id=\"df-139ef0f9-0277-4f7d-b3bf-e2ea2b2e621a\" class=\"colab-df-container\">\n",
              "    <div>\n",
              "<style scoped>\n",
              "    .dataframe tbody tr th:only-of-type {\n",
              "        vertical-align: middle;\n",
              "    }\n",
              "\n",
              "    .dataframe tbody tr th {\n",
              "        vertical-align: top;\n",
              "    }\n",
              "\n",
              "    .dataframe thead th {\n",
              "        text-align: right;\n",
              "    }\n",
              "</style>\n",
              "<table border=\"1\" class=\"dataframe\">\n",
              "  <thead>\n",
              "    <tr style=\"text-align: right;\">\n",
              "      <th></th>\n",
              "      <th>Code</th>\n",
              "      <th>FREQ</th>\n",
              "      <th>FREQ#</th>\n",
              "      <th>REF_AREA</th>\n",
              "      <th>REF_AREA#</th>\n",
              "      <th>INDICATOR</th>\n",
              "      <th>INDICATOR#</th>\n",
              "      <th>MEASURE</th>\n",
              "      <th>MEASURE#</th>\n",
              "      <th>UNIT_MEASURE</th>\n",
              "      <th>...</th>\n",
              "      <th>2017</th>\n",
              "      <th>sts.5</th>\n",
              "      <th>2018</th>\n",
              "      <th>sts.6</th>\n",
              "      <th>2019</th>\n",
              "      <th>sts.7</th>\n",
              "      <th>2020</th>\n",
              "      <th>sts.8</th>\n",
              "      <th>2021</th>\n",
              "      <th>sts.9</th>\n",
              "    </tr>\n",
              "  </thead>\n",
              "  <tbody>\n",
              "    <tr>\n",
              "      <th>5249</th>\n",
              "      <td>CPMI_CT1:A:ZA:M:V:H:D:Z:Z:Z</td>\n",
              "      <td>A</td>\n",
              "      <td>Annual</td>\n",
              "      <td>ZA</td>\n",
              "      <td>South Africa</td>\n",
              "      <td>M</td>\n",
              "      <td>Cashless payments</td>\n",
              "      <td>V</td>\n",
              "      <td>Value</td>\n",
              "      <td>H</td>\n",
              "      <td>...</td>\n",
              "      <td>-20.690</td>\n",
              "      <td>A</td>\n",
              "      <td>-27.456</td>\n",
              "      <td>A</td>\n",
              "      <td>-5.713</td>\n",
              "      <td>A</td>\n",
              "      <td>-76.968</td>\n",
              "      <td>A</td>\n",
              "      <td>-99.930</td>\n",
              "      <td>A</td>\n",
              "    </tr>\n",
              "    <tr>\n",
              "      <th>2718</th>\n",
              "      <td>CPMI_CT1:A:IN:K:V:B:Z:Z:Z:Z</td>\n",
              "      <td>A</td>\n",
              "      <td>Annual</td>\n",
              "      <td>IN</td>\n",
              "      <td>India</td>\n",
              "      <td>K</td>\n",
              "      <td>Accounts</td>\n",
              "      <td>V</td>\n",
              "      <td>Value</td>\n",
              "      <td>B</td>\n",
              "      <td>...</td>\n",
              "      <td>1575.716</td>\n",
              "      <td>A</td>\n",
              "      <td>1556.235</td>\n",
              "      <td>A</td>\n",
              "      <td>1569.466</td>\n",
              "      <td>A</td>\n",
              "      <td>1691.333</td>\n",
              "      <td>A</td>\n",
              "      <td>1817.145</td>\n",
              "      <td>A</td>\n",
              "    </tr>\n",
              "    <tr>\n",
              "      <th>940</th>\n",
              "      <td>CPMI_CT1:A:CA:M:N:N:E:Z:Z:Z</td>\n",
              "      <td>A</td>\n",
              "      <td>Annual</td>\n",
              "      <td>CA</td>\n",
              "      <td>Canada</td>\n",
              "      <td>M</td>\n",
              "      <td>Cashless payments</td>\n",
              "      <td>N</td>\n",
              "      <td>Number</td>\n",
              "      <td>N</td>\n",
              "      <td>...</td>\n",
              "      <td>10736.800</td>\n",
              "      <td>A</td>\n",
              "      <td>11603.400</td>\n",
              "      <td>A</td>\n",
              "      <td>11998.000</td>\n",
              "      <td>A</td>\n",
              "      <td>4819.160</td>\n",
              "      <td>A</td>\n",
              "      <td>5281.500</td>\n",
              "      <td>A</td>\n",
              "    </tr>\n",
              "    <tr>\n",
              "      <th>27</th>\n",
              "      <td>CPMI_CT1:A:AR:M:N:G:E:Z:Z:Z</td>\n",
              "      <td>A</td>\n",
              "      <td>Annual</td>\n",
              "      <td>AR</td>\n",
              "      <td>Argentina</td>\n",
              "      <td>M</td>\n",
              "      <td>Cashless payments</td>\n",
              "      <td>N</td>\n",
              "      <td>Number</td>\n",
              "      <td>G</td>\n",
              "      <td>...</td>\n",
              "      <td>8.633</td>\n",
              "      <td>A</td>\n",
              "      <td>12.401</td>\n",
              "      <td>A</td>\n",
              "      <td>20.487</td>\n",
              "      <td>A</td>\n",
              "      <td>NaN</td>\n",
              "      <td>A</td>\n",
              "      <td>31.498</td>\n",
              "      <td>A</td>\n",
              "    </tr>\n",
              "    <tr>\n",
              "      <th>1225</th>\n",
              "      <td>CPMI_CT1:A:CH:R:N:Q:Z:C:Z:Z</td>\n",
              "      <td>A</td>\n",
              "      <td>Annual</td>\n",
              "      <td>CH</td>\n",
              "      <td>Switzerland</td>\n",
              "      <td>R</td>\n",
              "      <td>Withdrawals/deposits</td>\n",
              "      <td>N</td>\n",
              "      <td>Number</td>\n",
              "      <td>Q</td>\n",
              "      <td>...</td>\n",
              "      <td>14.093</td>\n",
              "      <td>A</td>\n",
              "      <td>14.307</td>\n",
              "      <td>A</td>\n",
              "      <td>18.398</td>\n",
              "      <td>A</td>\n",
              "      <td>16.568</td>\n",
              "      <td>A</td>\n",
              "      <td>15.178</td>\n",
              "      <td>A</td>\n",
              "    </tr>\n",
              "    <tr>\n",
              "      <th>3008</th>\n",
              "      <td>CPMI_CT1:A:IT:M:V:A:I:Z:Z:Z</td>\n",
              "      <td>A</td>\n",
              "      <td>Annual</td>\n",
              "      <td>IT</td>\n",
              "      <td>Italy</td>\n",
              "      <td>M</td>\n",
              "      <td>Cashless payments</td>\n",
              "      <td>V</td>\n",
              "      <td>Value</td>\n",
              "      <td>A</td>\n",
              "      <td>...</td>\n",
              "      <td>28042.859</td>\n",
              "      <td>A</td>\n",
              "      <td>35084.912</td>\n",
              "      <td>A</td>\n",
              "      <td>40974.492</td>\n",
              "      <td>A</td>\n",
              "      <td>48735.316</td>\n",
              "      <td>A</td>\n",
              "      <td>63966.964</td>\n",
              "      <td>A</td>\n",
              "    </tr>\n",
              "    <tr>\n",
              "      <th>2091</th>\n",
              "      <td>CPMI_CT1:A:FR:M:V:I:G:Z:Z:Z</td>\n",
              "      <td>A</td>\n",
              "      <td>Annual</td>\n",
              "      <td>FR</td>\n",
              "      <td>France</td>\n",
              "      <td>M</td>\n",
              "      <td>Cashless payments</td>\n",
              "      <td>V</td>\n",
              "      <td>Value</td>\n",
              "      <td>I</td>\n",
              "      <td>...</td>\n",
              "      <td>5.253</td>\n",
              "      <td>A</td>\n",
              "      <td>5.444</td>\n",
              "      <td>A</td>\n",
              "      <td>5.214</td>\n",
              "      <td>A</td>\n",
              "      <td>5.207</td>\n",
              "      <td>A</td>\n",
              "      <td>6.075</td>\n",
              "      <td>A</td>\n",
              "    </tr>\n",
              "    <tr>\n",
              "      <th>3207</th>\n",
              "      <td>CPMI_CT1:A:JP:M:N:T:H:Z:Z:Z</td>\n",
              "      <td>A</td>\n",
              "      <td>Annual</td>\n",
              "      <td>JP</td>\n",
              "      <td>Japan</td>\n",
              "      <td>M</td>\n",
              "      <td>Cashless payments</td>\n",
              "      <td>N</td>\n",
              "      <td>Number</td>\n",
              "      <td>T</td>\n",
              "      <td>...</td>\n",
              "      <td>NaN</td>\n",
              "      <td>L</td>\n",
              "      <td>NaN</td>\n",
              "      <td>L</td>\n",
              "      <td>NaN</td>\n",
              "      <td>L</td>\n",
              "      <td>NaN</td>\n",
              "      <td>L</td>\n",
              "      <td>NaN</td>\n",
              "      <td>L</td>\n",
              "    </tr>\n",
              "    <tr>\n",
              "      <th>2603</th>\n",
              "      <td>CPMI_CT1:A:ID:M:V:T:H:Z:Z:Z</td>\n",
              "      <td>A</td>\n",
              "      <td>Annual</td>\n",
              "      <td>ID</td>\n",
              "      <td>Indonesia</td>\n",
              "      <td>M</td>\n",
              "      <td>Cashless payments</td>\n",
              "      <td>V</td>\n",
              "      <td>Value</td>\n",
              "      <td>T</td>\n",
              "      <td>...</td>\n",
              "      <td>59.156</td>\n",
              "      <td>A</td>\n",
              "      <td>58.711</td>\n",
              "      <td>A</td>\n",
              "      <td>64.429</td>\n",
              "      <td>A</td>\n",
              "      <td>43.600</td>\n",
              "      <td>A</td>\n",
              "      <td>45.528</td>\n",
              "      <td>A</td>\n",
              "    </tr>\n",
              "    <tr>\n",
              "      <th>4580</th>\n",
              "      <td>CPMI_CT1:A:SE:R:V:A:Z:F:Z:Z</td>\n",
              "      <td>A</td>\n",
              "      <td>Annual</td>\n",
              "      <td>SE</td>\n",
              "      <td>Sweden</td>\n",
              "      <td>R</td>\n",
              "      <td>Withdrawals/deposits</td>\n",
              "      <td>V</td>\n",
              "      <td>Value</td>\n",
              "      <td>A</td>\n",
              "      <td>...</td>\n",
              "      <td>515.000</td>\n",
              "      <td>A</td>\n",
              "      <td>430.577</td>\n",
              "      <td>A</td>\n",
              "      <td>400.992</td>\n",
              "      <td>A</td>\n",
              "      <td>205.441</td>\n",
              "      <td>A</td>\n",
              "      <td>226.695</td>\n",
              "      <td>A</td>\n",
              "    </tr>\n",
              "  </tbody>\n",
              "</table>\n",
              "<p>10 rows × 48 columns</p>\n",
              "</div>\n",
              "    <div class=\"colab-df-buttons\">\n",
              "\n",
              "  <div class=\"colab-df-container\">\n",
              "    <button class=\"colab-df-convert\" onclick=\"convertToInteractive('df-139ef0f9-0277-4f7d-b3bf-e2ea2b2e621a')\"\n",
              "            title=\"Convert this dataframe to an interactive table.\"\n",
              "            style=\"display:none;\">\n",
              "\n",
              "  <svg xmlns=\"http://www.w3.org/2000/svg\" height=\"24px\" viewBox=\"0 -960 960 960\">\n",
              "    <path d=\"M120-120v-720h720v720H120Zm60-500h600v-160H180v160Zm220 220h160v-160H400v160Zm0 220h160v-160H400v160ZM180-400h160v-160H180v160Zm440 0h160v-160H620v160ZM180-180h160v-160H180v160Zm440 0h160v-160H620v160Z\"/>\n",
              "  </svg>\n",
              "    </button>\n",
              "\n",
              "  <style>\n",
              "    .colab-df-container {\n",
              "      display:flex;\n",
              "      gap: 12px;\n",
              "    }\n",
              "\n",
              "    .colab-df-convert {\n",
              "      background-color: #E8F0FE;\n",
              "      border: none;\n",
              "      border-radius: 50%;\n",
              "      cursor: pointer;\n",
              "      display: none;\n",
              "      fill: #1967D2;\n",
              "      height: 32px;\n",
              "      padding: 0 0 0 0;\n",
              "      width: 32px;\n",
              "    }\n",
              "\n",
              "    .colab-df-convert:hover {\n",
              "      background-color: #E2EBFA;\n",
              "      box-shadow: 0px 1px 2px rgba(60, 64, 67, 0.3), 0px 1px 3px 1px rgba(60, 64, 67, 0.15);\n",
              "      fill: #174EA6;\n",
              "    }\n",
              "\n",
              "    .colab-df-buttons div {\n",
              "      margin-bottom: 4px;\n",
              "    }\n",
              "\n",
              "    [theme=dark] .colab-df-convert {\n",
              "      background-color: #3B4455;\n",
              "      fill: #D2E3FC;\n",
              "    }\n",
              "\n",
              "    [theme=dark] .colab-df-convert:hover {\n",
              "      background-color: #434B5C;\n",
              "      box-shadow: 0px 1px 3px 1px rgba(0, 0, 0, 0.15);\n",
              "      filter: drop-shadow(0px 1px 2px rgba(0, 0, 0, 0.3));\n",
              "      fill: #FFFFFF;\n",
              "    }\n",
              "  </style>\n",
              "\n",
              "    <script>\n",
              "      const buttonEl =\n",
              "        document.querySelector('#df-139ef0f9-0277-4f7d-b3bf-e2ea2b2e621a button.colab-df-convert');\n",
              "      buttonEl.style.display =\n",
              "        google.colab.kernel.accessAllowed ? 'block' : 'none';\n",
              "\n",
              "      async function convertToInteractive(key) {\n",
              "        const element = document.querySelector('#df-139ef0f9-0277-4f7d-b3bf-e2ea2b2e621a');\n",
              "        const dataTable =\n",
              "          await google.colab.kernel.invokeFunction('convertToInteractive',\n",
              "                                                    [key], {});\n",
              "        if (!dataTable) return;\n",
              "\n",
              "        const docLinkHtml = 'Like what you see? Visit the ' +\n",
              "          '<a target=\"_blank\" href=https://colab.research.google.com/notebooks/data_table.ipynb>data table notebook</a>'\n",
              "          + ' to learn more about interactive tables.';\n",
              "        element.innerHTML = '';\n",
              "        dataTable['output_type'] = 'display_data';\n",
              "        await google.colab.output.renderOutput(dataTable, element);\n",
              "        const docLink = document.createElement('div');\n",
              "        docLink.innerHTML = docLinkHtml;\n",
              "        element.appendChild(docLink);\n",
              "      }\n",
              "    </script>\n",
              "  </div>\n",
              "\n",
              "\n",
              "<div id=\"df-9ffebbe5-35c5-4ea6-845b-3737573b2431\">\n",
              "  <button class=\"colab-df-quickchart\" onclick=\"quickchart('df-9ffebbe5-35c5-4ea6-845b-3737573b2431')\"\n",
              "            title=\"Suggest charts.\"\n",
              "            style=\"display:none;\">\n",
              "\n",
              "<svg xmlns=\"http://www.w3.org/2000/svg\" height=\"24px\"viewBox=\"0 0 24 24\"\n",
              "     width=\"24px\">\n",
              "    <g>\n",
              "        <path d=\"M19 3H5c-1.1 0-2 .9-2 2v14c0 1.1.9 2 2 2h14c1.1 0 2-.9 2-2V5c0-1.1-.9-2-2-2zM9 17H7v-7h2v7zm4 0h-2V7h2v10zm4 0h-2v-4h2v4z\"/>\n",
              "    </g>\n",
              "</svg>\n",
              "  </button>\n",
              "\n",
              "<style>\n",
              "  .colab-df-quickchart {\n",
              "      --bg-color: #E8F0FE;\n",
              "      --fill-color: #1967D2;\n",
              "      --hover-bg-color: #E2EBFA;\n",
              "      --hover-fill-color: #174EA6;\n",
              "      --disabled-fill-color: #AAA;\n",
              "      --disabled-bg-color: #DDD;\n",
              "  }\n",
              "\n",
              "  [theme=dark] .colab-df-quickchart {\n",
              "      --bg-color: #3B4455;\n",
              "      --fill-color: #D2E3FC;\n",
              "      --hover-bg-color: #434B5C;\n",
              "      --hover-fill-color: #FFFFFF;\n",
              "      --disabled-bg-color: #3B4455;\n",
              "      --disabled-fill-color: #666;\n",
              "  }\n",
              "\n",
              "  .colab-df-quickchart {\n",
              "    background-color: var(--bg-color);\n",
              "    border: none;\n",
              "    border-radius: 50%;\n",
              "    cursor: pointer;\n",
              "    display: none;\n",
              "    fill: var(--fill-color);\n",
              "    height: 32px;\n",
              "    padding: 0;\n",
              "    width: 32px;\n",
              "  }\n",
              "\n",
              "  .colab-df-quickchart:hover {\n",
              "    background-color: var(--hover-bg-color);\n",
              "    box-shadow: 0 1px 2px rgba(60, 64, 67, 0.3), 0 1px 3px 1px rgba(60, 64, 67, 0.15);\n",
              "    fill: var(--button-hover-fill-color);\n",
              "  }\n",
              "\n",
              "  .colab-df-quickchart-complete:disabled,\n",
              "  .colab-df-quickchart-complete:disabled:hover {\n",
              "    background-color: var(--disabled-bg-color);\n",
              "    fill: var(--disabled-fill-color);\n",
              "    box-shadow: none;\n",
              "  }\n",
              "\n",
              "  .colab-df-spinner {\n",
              "    border: 2px solid var(--fill-color);\n",
              "    border-color: transparent;\n",
              "    border-bottom-color: var(--fill-color);\n",
              "    animation:\n",
              "      spin 1s steps(1) infinite;\n",
              "  }\n",
              "\n",
              "  @keyframes spin {\n",
              "    0% {\n",
              "      border-color: transparent;\n",
              "      border-bottom-color: var(--fill-color);\n",
              "      border-left-color: var(--fill-color);\n",
              "    }\n",
              "    20% {\n",
              "      border-color: transparent;\n",
              "      border-left-color: var(--fill-color);\n",
              "      border-top-color: var(--fill-color);\n",
              "    }\n",
              "    30% {\n",
              "      border-color: transparent;\n",
              "      border-left-color: var(--fill-color);\n",
              "      border-top-color: var(--fill-color);\n",
              "      border-right-color: var(--fill-color);\n",
              "    }\n",
              "    40% {\n",
              "      border-color: transparent;\n",
              "      border-right-color: var(--fill-color);\n",
              "      border-top-color: var(--fill-color);\n",
              "    }\n",
              "    60% {\n",
              "      border-color: transparent;\n",
              "      border-right-color: var(--fill-color);\n",
              "    }\n",
              "    80% {\n",
              "      border-color: transparent;\n",
              "      border-right-color: var(--fill-color);\n",
              "      border-bottom-color: var(--fill-color);\n",
              "    }\n",
              "    90% {\n",
              "      border-color: transparent;\n",
              "      border-bottom-color: var(--fill-color);\n",
              "    }\n",
              "  }\n",
              "</style>\n",
              "\n",
              "  <script>\n",
              "    async function quickchart(key) {\n",
              "      const quickchartButtonEl =\n",
              "        document.querySelector('#' + key + ' button');\n",
              "      quickchartButtonEl.disabled = true;  // To prevent multiple clicks.\n",
              "      quickchartButtonEl.classList.add('colab-df-spinner');\n",
              "      try {\n",
              "        const charts = await google.colab.kernel.invokeFunction(\n",
              "            'suggestCharts', [key], {});\n",
              "      } catch (error) {\n",
              "        console.error('Error during call to suggestCharts:', error);\n",
              "      }\n",
              "      quickchartButtonEl.classList.remove('colab-df-spinner');\n",
              "      quickchartButtonEl.classList.add('colab-df-quickchart-complete');\n",
              "    }\n",
              "    (() => {\n",
              "      let quickchartButtonEl =\n",
              "        document.querySelector('#df-9ffebbe5-35c5-4ea6-845b-3737573b2431 button');\n",
              "      quickchartButtonEl.style.display =\n",
              "        google.colab.kernel.accessAllowed ? 'block' : 'none';\n",
              "    })();\n",
              "  </script>\n",
              "</div>\n",
              "    </div>\n",
              "  </div>\n"
            ]
          },
          "metadata": {},
          "execution_count": 25
        }
      ]
    },
    {
      "cell_type": "markdown",
      "source": [],
      "metadata": {
        "id": "3hCfPpbLyEEa"
      }
    },
    {
      "cell_type": "code",
      "source": [
        "\n",
        "cols = [var for var in df.columns if df[var].isnull().mean() < 0.05 and df[var].isnull().mean()>0]\n",
        "cols"
      ],
      "metadata": {
        "colab": {
          "base_uri": "https://localhost:8080/",
          "height": 200
        },
        "id": "ruMPsRkbyEWx",
        "outputId": "0461ba1c-e1b7-42aa-de5a-39e83303f96f"
      },
      "execution_count": 1,
      "outputs": [
        {
          "output_type": "error",
          "ename": "NameError",
          "evalue": "ignored",
          "traceback": [
            "\u001b[0;31m---------------------------------------------------------------------------\u001b[0m",
            "\u001b[0;31mNameError\u001b[0m                                 Traceback (most recent call last)",
            "\u001b[0;32m<ipython-input-1-7570c24fac40>\u001b[0m in \u001b[0;36m<cell line: 1>\u001b[0;34m()\u001b[0m\n\u001b[0;32m----> 1\u001b[0;31m \u001b[0mcols\u001b[0m \u001b[0;34m=\u001b[0m \u001b[0;34m[\u001b[0m\u001b[0mvar\u001b[0m \u001b[0;32mfor\u001b[0m \u001b[0mvar\u001b[0m \u001b[0;32min\u001b[0m \u001b[0mdf\u001b[0m\u001b[0;34m.\u001b[0m\u001b[0mcolumns\u001b[0m \u001b[0;32mif\u001b[0m \u001b[0mdf\u001b[0m\u001b[0;34m[\u001b[0m\u001b[0mvar\u001b[0m\u001b[0;34m]\u001b[0m\u001b[0;34m.\u001b[0m\u001b[0misnull\u001b[0m\u001b[0;34m(\u001b[0m\u001b[0;34m)\u001b[0m\u001b[0;34m.\u001b[0m\u001b[0mmean\u001b[0m\u001b[0;34m(\u001b[0m\u001b[0;34m)\u001b[0m \u001b[0;34m<\u001b[0m \u001b[0;36m0.05\u001b[0m \u001b[0;32mand\u001b[0m \u001b[0mdf\u001b[0m\u001b[0;34m[\u001b[0m\u001b[0mvar\u001b[0m\u001b[0;34m]\u001b[0m\u001b[0;34m.\u001b[0m\u001b[0misnull\u001b[0m\u001b[0;34m(\u001b[0m\u001b[0;34m)\u001b[0m\u001b[0;34m.\u001b[0m\u001b[0mmean\u001b[0m\u001b[0;34m(\u001b[0m\u001b[0;34m)\u001b[0m\u001b[0;34m>\u001b[0m\u001b[0;36m0\u001b[0m\u001b[0;34m]\u001b[0m\u001b[0;34m\u001b[0m\u001b[0;34m\u001b[0m\u001b[0m\n\u001b[0m\u001b[1;32m      2\u001b[0m \u001b[0mcols\u001b[0m\u001b[0;34m\u001b[0m\u001b[0;34m\u001b[0m\u001b[0m\n",
            "\u001b[0;31mNameError\u001b[0m: name 'df' is not defined"
          ]
        }
      ]
    },
    {
      "cell_type": "markdown",
      "source": [],
      "metadata": {
        "id": "ggfbABwADjFN"
      }
    },
    {
      "cell_type": "code",
      "source": [
        "def create_indicator_dict(df, column):\n",
        "    dict = {}\n",
        "\n",
        "    unique = df[f'{column}'].unique()\n",
        "\n",
        "    for indicator in unique:\n",
        "        indicator_number = df[df[f'{column}'] == indicator][f'{column}#'].values[0]\n",
        "        dict[indicator] = indicator_number\n",
        "\n",
        "    return dict"
      ],
      "metadata": {
        "id": "Sf_Rs8T68_x7"
      },
      "execution_count": null,
      "outputs": []
    },
    {
      "cell_type": "code",
      "source": [
        "columns = ['INDICATOR','INSTRUMENT_TYPE','WITH_AND_DEP','CARD_TYPE','UNIT_MULT','COLLECTION' ]\n",
        "result_dict = []\n",
        "\n",
        "for column in columns:\n",
        "  result_dict.append(create_indicator_dict(df, column))\n",
        "print(result_dict)"
      ],
      "metadata": {
        "colab": {
          "base_uri": "https://localhost:8080/"
        },
        "id": "KtMpPKDg94BG",
        "outputId": "677b892b-e0ff-4b9c-f10d-834757b9b060"
      },
      "execution_count": null,
      "outputs": [
        {
          "output_type": "stream",
          "name": "stdout",
          "text": [
            "[{'A': 'GDP', 'B': 'Population', 'C': 'GDP per capita', 'D': 'CPI', 'E': 'Exchange rate (domestic currency vis-a-vis USD)', 'F': 'Banknotes and coins', 'G': 'Bank deposits held at the central bank', 'H': 'Interbank deposits', 'I': 'Institutions', 'J': 'Branches or offices', 'K': 'Accounts', 'M': 'Cashless payments', 'N': 'Fast payments', 'R': 'Withdrawals/deposits', 'T': 'Cards', 'U': 'Terminals'}, {'Z': 'Not applicable', 'A': 'All', 'B': 'Credit transfers', 'C': 'Direct debits', 'D': 'Cheques', 'E': 'Card and e-money payments, all', 'F': 'Card and e-money payments, by card with a debit function', 'H': 'Card and e-money payments, by card with a credit function', 'I': 'Card and e-money payments, e-money payments', 'J': 'Other payment instruments', 'G': 'Card and e-money payments, by card with a delayed debit function', 'K': 'Memo: Money remittances'}, {'Z': 'Not applicable', 'A': 'All', 'B': 'Cash withdrawals with cards issued inside the country, all', 'C': 'Cash withdrawals with cards issued inside the country, at locations inside the country', 'D': 'Cash withdrawals with cards issued inside the country, at locations outside the country', 'E': 'Memo: Cash withdrawals at locations inside the country', 'F': 'With cards issued outside the country', 'G': 'Cash deposits at locations inside and outside the country', 'H': 'With cards issued inside the country at locations inside the country', 'I': 'E-money loading/unloading transactions'}, {'Z': 'Not applicable', 'A': 'Cards, all', 'B': 'Cards, with a cash function', 'C': 'Cards, with a debit function', 'D': 'Cards, with a delayed debit function', 'E': 'Cards, with a credit function', 'F': nan, 'G': 'Cards, with an e-money function, contactless', 'I': 'Cards, with an e-money function, able to initiate device-not-present payments', 'H': 'Cards, with an e-money function, issued by a non-bank'}, {9: 'Billions', 3: 'Thousands', 0: 'Units', 6: 'Millions'}, {'S': 'Summed through period', 'E': 'End of period', 'M': 'Middle of period', 'A': 'Average of observations through period'}]\n"
          ]
        }
      ]
    },
    {
      "cell_type": "code",
      "source": [
        "for i in range(len(columns)):\n",
        "  df[f'{columns[i]}#'] = df[f'{columns[i]}'].map(result_dict[i])"
      ],
      "metadata": {
        "id": "shl8nBi997nC"
      },
      "execution_count": null,
      "outputs": []
    },
    {
      "cell_type": "code",
      "source": [
        "df.isnull().sum()"
      ],
      "metadata": {
        "colab": {
          "base_uri": "https://localhost:8080/"
        },
        "id": "HobDjAnBEkyK",
        "outputId": "107ab293-e91f-4dbc-b94e-fdd397a66bd0"
      },
      "execution_count": null,
      "outputs": [
        {
          "output_type": "execute_result",
          "data": {
            "text/plain": [
              "Code                   0\n",
              "FREQ                   0\n",
              "FREQ#                  0\n",
              "REF_AREA               0\n",
              "REF_AREA#              0\n",
              "INDICATOR              0\n",
              "INDICATOR#             0\n",
              "MEASURE                0\n",
              "MEASURE#               0\n",
              "UNIT_MEASURE           0\n",
              "UNIT_MEASURE#          0\n",
              "INSTRUMENT_TYPE        0\n",
              "INSTRUMENT_TYPE#       0\n",
              "WITH_AND_DEP           0\n",
              "WITH_AND_DEP#          0\n",
              "TERMINAL_TYPE          0\n",
              "TERMINAL_TYPE#         0\n",
              "CARD_TYPE              0\n",
              "CARD_TYPE#            54\n",
              "AVAILABILITY           0\n",
              "AVAILABILITY#          0\n",
              "UNIT_MULT              0\n",
              "UNIT_MULT#             0\n",
              "COLLECTION             0\n",
              "COLLECTION#            0\n",
              "DECIMALS               0\n",
              "TABLE                  0\n",
              "TITLE_TS               0\n",
              "2012                1428\n",
              "sts                  446\n",
              "2013                 873\n",
              "sts.1                  0\n",
              "2014                 486\n",
              "sts.2                  0\n",
              "2015                 348\n",
              "sts.3                  0\n",
              "2016                 287\n",
              "sts.4                  0\n",
              "2017                 230\n",
              "sts.5                  0\n",
              "2018                 265\n",
              "sts.6                  4\n",
              "2019                 244\n",
              "sts.7                  4\n",
              "2020                 268\n",
              "sts.8                 19\n",
              "2021                 491\n",
              "sts.9                 19\n",
              "dtype: int64"
            ]
          },
          "metadata": {},
          "execution_count": 29
        }
      ]
    },
    {
      "cell_type": "code",
      "source": [
        "dict2 = {'Z': 'Not applicable',\n",
        " 'A': 'Cards, all',\n",
        " 'B': 'Cards, with a cash function',\n",
        " 'C': 'Cards, with a debit function',\n",
        " 'D': 'Cards, with a delayed debit function',\n",
        " 'E': 'Cards, with a credit function',\n",
        " 'F': 'Cards, with an e-money function,all',\n",
        " 'G': 'Cards, with an e-money function, contactless',\n",
        " 'I': 'Cards, with an e-money function, able to initiate device-not-present payments',\n",
        " 'H': 'Cards, with an e-money function, issued by a non-bank'}"
      ],
      "metadata": {
        "id": "JW6t__tUFlom"
      },
      "execution_count": null,
      "outputs": []
    },
    {
      "cell_type": "code",
      "source": [
        "df['CARD_TYPE#'] = df['CARD_TYPE'].map(dict2)"
      ],
      "metadata": {
        "id": "EIaFDIGMGZho"
      },
      "execution_count": null,
      "outputs": []
    },
    {
      "cell_type": "code",
      "source": [
        "df.isnull().sum()"
      ],
      "metadata": {
        "colab": {
          "base_uri": "https://localhost:8080/"
        },
        "id": "m71L_O-eGaeI",
        "outputId": "4f78e1be-626c-44f5-b75d-59261989635a"
      },
      "execution_count": null,
      "outputs": [
        {
          "output_type": "execute_result",
          "data": {
            "text/plain": [
              "Code                   0\n",
              "FREQ                   0\n",
              "FREQ#                  0\n",
              "REF_AREA               0\n",
              "REF_AREA#              0\n",
              "INDICATOR              0\n",
              "INDICATOR#             0\n",
              "MEASURE                0\n",
              "MEASURE#               0\n",
              "UNIT_MEASURE           0\n",
              "UNIT_MEASURE#          0\n",
              "INSTRUMENT_TYPE        0\n",
              "INSTRUMENT_TYPE#       0\n",
              "WITH_AND_DEP           0\n",
              "WITH_AND_DEP#          0\n",
              "TERMINAL_TYPE          0\n",
              "TERMINAL_TYPE#         0\n",
              "CARD_TYPE              0\n",
              "CARD_TYPE#             0\n",
              "AVAILABILITY           0\n",
              "AVAILABILITY#          0\n",
              "UNIT_MULT              0\n",
              "UNIT_MULT#             0\n",
              "COLLECTION             0\n",
              "COLLECTION#            0\n",
              "DECIMALS               0\n",
              "TABLE                  0\n",
              "TITLE_TS               0\n",
              "2012                1428\n",
              "sts                  446\n",
              "2013                 873\n",
              "sts.1                  0\n",
              "2014                 486\n",
              "sts.2                  0\n",
              "2015                 348\n",
              "sts.3                  0\n",
              "2016                 287\n",
              "sts.4                  0\n",
              "2017                 230\n",
              "sts.5                  0\n",
              "2018                 265\n",
              "sts.6                  4\n",
              "2019                 244\n",
              "sts.7                  4\n",
              "2020                 268\n",
              "sts.8                 19\n",
              "2021                 491\n",
              "sts.9                 19\n",
              "dtype: int64"
            ]
          },
          "metadata": {},
          "execution_count": 32
        }
      ]
    },
    {
      "cell_type": "code",
      "source": [
        "df.columns"
      ],
      "metadata": {
        "colab": {
          "base_uri": "https://localhost:8080/"
        },
        "id": "S6hPqe6uHDpR",
        "outputId": "d54ec07a-cf7b-46c2-937a-1d92b9cd1327"
      },
      "execution_count": null,
      "outputs": [
        {
          "output_type": "execute_result",
          "data": {
            "text/plain": [
              "Index(['Code', 'FREQ', 'FREQ#', 'REF_AREA', 'REF_AREA#', 'INDICATOR',\n",
              "       'INDICATOR#', 'MEASURE', 'MEASURE#', 'UNIT_MEASURE', 'UNIT_MEASURE#',\n",
              "       'INSTRUMENT_TYPE', 'INSTRUMENT_TYPE#', 'WITH_AND_DEP', 'WITH_AND_DEP#',\n",
              "       'TERMINAL_TYPE', 'TERMINAL_TYPE#', 'CARD_TYPE', 'CARD_TYPE#',\n",
              "       'AVAILABILITY', 'AVAILABILITY#', 'UNIT_MULT', 'UNIT_MULT#',\n",
              "       'COLLECTION', 'COLLECTION#', 'DECIMALS', 'TABLE', 'TITLE_TS', '2012',\n",
              "       'sts', '2013', 'sts.1', '2014', 'sts.2', '2015', 'sts.3', '2016',\n",
              "       'sts.4', '2017', 'sts.5', '2018', 'sts.6', '2019', 'sts.7', '2020',\n",
              "       'sts.8', '2021', 'sts.9'],\n",
              "      dtype='object')"
            ]
          },
          "metadata": {},
          "execution_count": 33
        }
      ]
    },
    {
      "cell_type": "code",
      "source": [
        "columns2 =['2012','sts', '2013', 'sts.1', '2014', 'sts.2', '2015', 'sts.3', '2016',\n",
        "       'sts.4', '2017', 'sts.5', '2018', 'sts.6', '2019', 'sts.7', '2020',\n",
        "       'sts.8', '2021', 'sts.9']\n",
        "\n",
        "for i in columns2:\n",
        "  df[f'{i}'] = df[f'{i}'].fillna(df[f'{i}'].mean)"
      ],
      "metadata": {
        "id": "_d_OaL9tHtS2"
      },
      "execution_count": null,
      "outputs": []
    },
    {
      "cell_type": "code",
      "source": [
        "df.isnull().sum()"
      ],
      "metadata": {
        "colab": {
          "base_uri": "https://localhost:8080/"
        },
        "id": "kjUxZyx5IkkL",
        "outputId": "888061cf-3dc0-4f00-cd37-fe56b29a0bfb"
      },
      "execution_count": null,
      "outputs": [
        {
          "output_type": "execute_result",
          "data": {
            "text/plain": [
              "Code                0\n",
              "FREQ                0\n",
              "FREQ#               0\n",
              "REF_AREA            0\n",
              "REF_AREA#           0\n",
              "INDICATOR           0\n",
              "INDICATOR#          0\n",
              "MEASURE             0\n",
              "MEASURE#            0\n",
              "UNIT_MEASURE        0\n",
              "UNIT_MEASURE#       0\n",
              "INSTRUMENT_TYPE     0\n",
              "INSTRUMENT_TYPE#    0\n",
              "WITH_AND_DEP        0\n",
              "WITH_AND_DEP#       0\n",
              "TERMINAL_TYPE       0\n",
              "TERMINAL_TYPE#      0\n",
              "CARD_TYPE           0\n",
              "CARD_TYPE#          0\n",
              "AVAILABILITY        0\n",
              "AVAILABILITY#       0\n",
              "UNIT_MULT           0\n",
              "UNIT_MULT#          0\n",
              "COLLECTION          0\n",
              "COLLECTION#         0\n",
              "DECIMALS            0\n",
              "TABLE               0\n",
              "TITLE_TS            0\n",
              "2012                0\n",
              "sts                 0\n",
              "2013                0\n",
              "sts.1               0\n",
              "2014                0\n",
              "sts.2               0\n",
              "2015                0\n",
              "sts.3               0\n",
              "2016                0\n",
              "sts.4               0\n",
              "2017                0\n",
              "sts.5               0\n",
              "2018                0\n",
              "sts.6               0\n",
              "2019                0\n",
              "sts.7               0\n",
              "2020                0\n",
              "sts.8               0\n",
              "2021                0\n",
              "sts.9               0\n",
              "dtype: int64"
            ]
          },
          "metadata": {},
          "execution_count": 35
        }
      ]
    },
    {
      "cell_type": "code",
      "source": [
        "df.shape"
      ],
      "metadata": {
        "colab": {
          "base_uri": "https://localhost:8080/"
        },
        "id": "CoJhLIGsKDKn",
        "outputId": "d16e6c52-b5c6-4514-a03c-314fa35c9db0"
      },
      "execution_count": null,
      "outputs": [
        {
          "output_type": "execute_result",
          "data": {
            "text/plain": [
              "(5348, 48)"
            ]
          },
          "metadata": {},
          "execution_count": 36
        }
      ]
    },
    {
      "cell_type": "code",
      "source": [
        "df.to_csv('final_output.csv', index=False)"
      ],
      "metadata": {
        "id": "GPcau75cJdC7"
      },
      "execution_count": null,
      "outputs": []
    },
    {
      "cell_type": "code",
      "source": [
        "df.duplicated().sum()"
      ],
      "metadata": {
        "colab": {
          "base_uri": "https://localhost:8080/"
        },
        "id": "sfVZOpKWTgMg",
        "outputId": "417f058a-ac93-45f2-b652-f1cf48e38b3f"
      },
      "execution_count": null,
      "outputs": [
        {
          "output_type": "execute_result",
          "data": {
            "text/plain": [
              "0"
            ]
          },
          "metadata": {},
          "execution_count": 40
        }
      ]
    },
    {
      "cell_type": "code",
      "source": [],
      "metadata": {
        "id": "MkojGqlxTlqs"
      },
      "execution_count": null,
      "outputs": []
    }
  ]
}